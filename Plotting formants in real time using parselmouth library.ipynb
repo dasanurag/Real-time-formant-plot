{
 "cells": [
  {
   "cell_type": "code",
   "execution_count": 20,
   "metadata": {
    "collapsed": true
   },
   "outputs": [],
   "source": [
    "import parselmouth\n",
    "import numpy as np\n",
    "import matplotlib.pyplot as plt\n",
    "import matplotlib.animation as animation\n",
    "import seaborn as sns\n",
    "import pylab\n",
    "import pyaudio\n",
    "import csv\n",
    "sns.set()"
   ]
  },
  {
   "cell_type": "code",
   "execution_count": 21,
   "metadata": {},
   "outputs": [],
   "source": [
    "RATE = 44100\n",
    "CHUNK = int(RATE)#2**12\n",
    "p = pyaudio.PyAudio()\n",
    "stream=p.open(format=pyaudio.paInt16,channels=1,rate=RATE,input=True,\n",
    "                  frames_per_buffer=CHUNK)\n",
    "\n",
    "form1 = []\n",
    "form2 = []\n",
    "for i in range(int(20*RATE/(CHUNK/2))):\n",
    "    data = np.fromstring(stream.read(CHUNK),dtype=np.int16)\n",
    "    sound = parselmouth.Sound(data)\n",
    "    for_obj = sound.to_formant_burg(max_number_of_formants=5.0,maximum_formant=5000.0)\n",
    "    time = (for_obj.get_end_time() - for_obj.get_start_time())/2 + for_obj.get_start_time()\n",
    "    #print(for_obj.get_value_at_time(1,time) ,' ',for_obj.get_value_at_time(2,time) ,' ', time)\n",
    "    form1.append(for_obj.get_value_at_time(1,time))\n",
    "    form2.append(for_obj.get_value_at_time(2,time))\n",
    "    csv = open(\"/home/anurag/audio_test/formant.csv\",\"w\")\n",
    "    title = \"F1,F2\\n\"\n",
    "    csv.write(title)\n",
    "    for i in range(len(form1)):\n",
    "        row = \"{},{}\\n\".format(form1[i], form2[i])\n",
    "        csv.write(row)\n",
    "        \n",
    "    pylab.scatter(form1,form2,s=10)\n",
    "    pylab.ylabel('F2')\n",
    "    pylab.xlabel('F1')\n",
    "    pylab.title(i)\n",
    "    pylab.grid()\n",
    "    pylab.savefig(\"/home/anurag/audio_test/03.png\",dpi=100)\n",
    "    pylab.close('all')\n",
    "    \n",
    "    \n",
    "stream.stop_stream()\n",
    "stream.close()\n",
    "p.terminate()"
   ]
  },
  {
   "cell_type": "code",
   "execution_count": 16,
   "metadata": {},
   "outputs": [
    {
     "ename": "AttributeError",
     "evalue": "'AxesSubplot' object has no attribute 'ylabel'",
     "output_type": "error",
     "traceback": [
      "\u001b[0;31m---------------------------------------------------------------------------\u001b[0m",
      "\u001b[0;31mAttributeError\u001b[0m                            Traceback (most recent call last)",
      "\u001b[0;32m<ipython-input-16-18fe1866dc04>\u001b[0m in \u001b[0;36m<module>\u001b[0;34m()\u001b[0m\n\u001b[1;32m     40\u001b[0m \u001b[0;34m\u001b[0m\u001b[0m\n\u001b[1;32m     41\u001b[0m \u001b[0;34m\u001b[0m\u001b[0m\n\u001b[0;32m---> 42\u001b[0;31m \u001b[0mani\u001b[0m \u001b[0;34m=\u001b[0m \u001b[0manimation\u001b[0m\u001b[0;34m.\u001b[0m\u001b[0mFuncAnimation\u001b[0m\u001b[0;34m(\u001b[0m\u001b[0mfig\u001b[0m\u001b[0;34m,\u001b[0m \u001b[0manimate\u001b[0m\u001b[0;34m(\u001b[0m\u001b[0mRATE\u001b[0m\u001b[0;34m,\u001b[0m\u001b[0mCHUNK\u001b[0m\u001b[0;34m,\u001b[0m\u001b[0mstream\u001b[0m\u001b[0;34m)\u001b[0m\u001b[0;34m,\u001b[0m \u001b[0minterval\u001b[0m \u001b[0;34m=\u001b[0m \u001b[0;36m100\u001b[0m\u001b[0;34m)\u001b[0m\u001b[0;34m\u001b[0m\u001b[0m\n\u001b[0m\u001b[1;32m     43\u001b[0m \u001b[0mpylab\u001b[0m\u001b[0;34m.\u001b[0m\u001b[0mshow\u001b[0m\u001b[0;34m(\u001b[0m\u001b[0;34m)\u001b[0m\u001b[0;34m\u001b[0m\u001b[0m\n\u001b[1;32m     44\u001b[0m \u001b[0mstream\u001b[0m\u001b[0;34m.\u001b[0m\u001b[0mstop_stream\u001b[0m\u001b[0;34m(\u001b[0m\u001b[0;34m)\u001b[0m\u001b[0;34m\u001b[0m\u001b[0m\n",
      "\u001b[0;32m<ipython-input-16-18fe1866dc04>\u001b[0m in \u001b[0;36manimate\u001b[0;34m(RATE, CHUNK, stream)\u001b[0m\n\u001b[1;32m     29\u001b[0m \u001b[0;31m#         pylab.grid()\u001b[0m\u001b[0;34m\u001b[0m\u001b[0;34m\u001b[0m\u001b[0m\n\u001b[1;32m     30\u001b[0m         \u001b[0max1\u001b[0m\u001b[0;34m.\u001b[0m\u001b[0mscatter\u001b[0m\u001b[0;34m(\u001b[0m\u001b[0mform1\u001b[0m\u001b[0;34m,\u001b[0m\u001b[0mform2\u001b[0m\u001b[0;34m,\u001b[0m\u001b[0ms\u001b[0m\u001b[0;34m=\u001b[0m\u001b[0;36m10\u001b[0m\u001b[0;34m)\u001b[0m\u001b[0;34m\u001b[0m\u001b[0m\n\u001b[0;32m---> 31\u001b[0;31m         \u001b[0max1\u001b[0m\u001b[0;34m.\u001b[0m\u001b[0mylabel\u001b[0m\u001b[0;34m(\u001b[0m\u001b[0;34m'F2'\u001b[0m\u001b[0;34m)\u001b[0m\u001b[0;34m\u001b[0m\u001b[0m\n\u001b[0m\u001b[1;32m     32\u001b[0m         \u001b[0max1\u001b[0m\u001b[0;34m.\u001b[0m\u001b[0mxlabel\u001b[0m\u001b[0;34m(\u001b[0m\u001b[0;34m'F1'\u001b[0m\u001b[0;34m)\u001b[0m\u001b[0;34m\u001b[0m\u001b[0m\n\u001b[1;32m     33\u001b[0m         \u001b[0max1\u001b[0m\u001b[0;34m.\u001b[0m\u001b[0mylim\u001b[0m\u001b[0;34m(\u001b[0m\u001b[0;36m1000\u001b[0m\u001b[0;34m,\u001b[0m\u001b[0;36m3000\u001b[0m\u001b[0;34m)\u001b[0m\u001b[0;34m\u001b[0m\u001b[0m\n",
      "\u001b[0;31mAttributeError\u001b[0m: 'AxesSubplot' object has no attribute 'ylabel'"
     ]
    }
   ],
   "source": [
    "RATE = 44100\n",
    "CHUNK = int(RATE//2)\n",
    "\n",
    "fig = plt.figure()\n",
    "ax1 = fig.add_subplot(1,1,1)\n",
    "p = pyaudio.PyAudio()\n",
    "stream=p.open(format=pyaudio.paInt16,channels=1,rate=RATE,input=True,\n",
    "                  frames_per_buffer=CHUNK)\n",
    "\n",
    "def animate(RATE,CHUNK,stream):\n",
    "    \n",
    "    form1 = []\n",
    "    form2 = []\n",
    "    for i in range(int(20*RATE/(CHUNK/2))):\n",
    "        data = np.fromstring(stream.read(CHUNK),dtype=np.int16)\n",
    "        sound = parselmouth.Sound(data)\n",
    "        for_obj = sound.to_formant_burg(max_number_of_formants=5.0,maximum_formant=5500.0)\n",
    "        time = (for_obj.get_end_time() - for_obj.get_start_time())/2 + for_obj.get_start_time()\n",
    "        #print(for_obj.get_value_at_time(1,time) ,' ',for_obj.get_value_at_time(2,time) ,' ', time)\n",
    "        form1.append(for_obj.get_value_at_time(1,time))\n",
    "        form2.append(for_obj.get_value_at_time(2,time))\n",
    "        ax1.clear()    \n",
    "#         pylab.scatter(form1,form2,s=10)\n",
    "#         pylab.ylabel('F2')\n",
    "#         pylab.xlabel('F1')\n",
    "#         pylab.ylim(1000,3000)\n",
    "#         pylab.xlim(100,1500)\n",
    "#         pylab.title(i)\n",
    "#         pylab.grid()\n",
    "        ax1.scatter(form1,form2,s=10)\n",
    "        ax1.ylabel('F2')\n",
    "        ax1.xlabel('F1')\n",
    "        ax1.ylim(1000,3000)\n",
    "        ax1.xlim(100,1500)\n",
    "        ax1.title(i)\n",
    "        ax1.grid()\n",
    "        #pylab.savefig(\"/home/anurag/audio_test/03.png\",dpi=90)\n",
    "        #pylab.close('all')\n",
    "        \n",
    "      \n",
    "    \n",
    "ani = animation.FuncAnimation(fig, animate(RATE,CHUNK,stream), interval = 100)\n",
    "pylab.show()\n",
    "stream.stop_stream()\n",
    "stream.close()\n",
    "p.terminate()"
   ]
  },
  {
   "cell_type": "code",
   "execution_count": 20,
   "metadata": {},
   "outputs": [
    {
     "data": {
      "text/plain": [
       "[871.5591589657586,\n",
       " 875.9281688718921,\n",
       " 954.0380186299612,\n",
       " 734.3439106947221,\n",
       " 688.5304154791118]"
      ]
     },
     "execution_count": 20,
     "metadata": {},
     "output_type": "execute_result"
    }
   ],
   "source": [
    "form1[:5]"
   ]
  },
  {
   "cell_type": "code",
   "execution_count": 17,
   "metadata": {},
   "outputs": [
    {
     "data": {
      "text/plain": [
       "40"
      ]
     },
     "execution_count": 17,
     "metadata": {},
     "output_type": "execute_result"
    }
   ],
   "source": []
  },
  {
   "cell_type": "code",
   "execution_count": null,
   "metadata": {
    "collapsed": true
   },
   "outputs": [],
   "source": []
  }
 ],
 "metadata": {
  "kernelspec": {
   "display_name": "Python 3",
   "language": "python",
   "name": "python3"
  },
  "language_info": {
   "codemirror_mode": {
    "name": "ipython",
    "version": 3
   },
   "file_extension": ".py",
   "mimetype": "text/x-python",
   "name": "python",
   "nbconvert_exporter": "python",
   "pygments_lexer": "ipython3",
   "version": "3.6.3"
  }
 },
 "nbformat": 4,
 "nbformat_minor": 2
}
